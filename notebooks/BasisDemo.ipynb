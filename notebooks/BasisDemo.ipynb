{
 "cells": [
  {
   "cell_type": "markdown",
   "metadata": {},
   "source": [
    "Laad nuttige functionaliteit"
   ]
  },
  {
   "cell_type": "code",
   "execution_count": null,
   "metadata": {},
   "outputs": [],
   "source": [
    "# Creeren van figuren \n",
    "using Plots, LaTeXStrings\n",
    "plot_options = (legend=false,linewidth=5)\n",
    "\n",
    "# Gebruik van widget met slider (als het toeval het toestaat)\n",
    "using Interact \n",
    "\n",
    "# Verzameling van bases \n",
    "using BasisFunctions "
   ]
  },
  {
   "cell_type": "markdown",
   "metadata": {},
   "source": [
    "Basisfunctions.jl is een pakket van onze onderzoeksgroep en bevat functionaliteit voor het benaderen van een functie met een verzameling van gegeven functies"
   ]
  },
  {
   "cell_type": "markdown",
   "metadata": {},
   "source": [
    "# Bases met veeltermen voor benadering op een interval"
   ]
  },
  {
   "cell_type": "markdown",
   "metadata": {},
   "source": [
    "## 1. Monomialen"
   ]
  },
  {
   "cell_type": "markdown",
   "metadata": {},
   "source": [
    "We kunnen functies benaderen met bijvoorbeeld een set in de vorm \n",
    "\n",
    "$$ 1, x, x^2, x^3, \\dots $$\n",
    "\n",
    "We benaderen dus $f(x)$ met \n",
    "$$ c_0 + c_1x+c_2x^2 +\\cdots + c_Nx^N  $$\n",
    "Of in het kort \n",
    "$$ f(x)\\approx \\sum_{k=0}^N c_kx^k$$\n",
    "\n",
    "De onbekenden zijn \n",
    "$$ c_0,\\quad c_1,\\quad c_2,\\quad \\cdots,\\quad c_N$$\n",
    "\n",
    "en kunnen gevonden worden door het oplossen van een vierkante $N\\times N$matrix \n",
    "\n",
    "\n",
    "$$\\begin{bmatrix}  \n",
    "1 & x_1 & x_1^2 & \\cdots & x_1^N \\\\1 & x_2 & x_2^2 & \\cdots & x_2^N \\\\\\vdots & \\vdots & \\vdots & \\ddots & \\vdots \\\\1 & x_N & x_N^2 & \\cdots & x_N^N \\\\\\end{bmatrix} \\begin{bmatrix}  c_0 \\\\c_1 \\\\\\vdots \\\\c_N \\\\\\end{bmatrix} = \\begin{bmatrix} f(x_1) \\\\ f(x_2) \\\\ \\vdots \\\\f(x_N)\\end{bmatrix} $$"
   ]
  },
  {
   "cell_type": "code",
   "execution_count": null,
   "metadata": {},
   "outputs": [],
   "source": [
    "N = 10\n",
    "basis = Monomials(N+1)\n",
    "gr();@manipulate for i in 1:length(basis) \n",
    "    plot(x->basis[i](x), -1,1;ylims=(-1,1),plot_options...,title=latexstring(\"x^$(i-1)\"))\n",
    "end"
   ]
  },
  {
   "cell_type": "markdown",
   "metadata": {},
   "source": [
    "Dit is echter een <i><b>onstabiele</b></u> basis omdat de verschillende functies goed op elkaar beginnen lijken voor hoge graad.  "
   ]
  },
  {
   "cell_type": "code",
   "execution_count": null,
   "metadata": {},
   "outputs": [],
   "source": [
    "basis = Monomials(N+1)\n",
    "gr();plot(x->basis[end](x), -1,1;ylims=(0,1),plot_options...)\n",
    "plot!(x->basis[end-2](x), -1,1;ylims=(0,1),plot_options...)"
   ]
  },
  {
   "cell_type": "markdown",
   "metadata": {},
   "source": [
    "## 1. Chebyshev"
   ]
  },
  {
   "cell_type": "markdown",
   "metadata": {},
   "source": [
    "Een chebyshev basis bevat ook veeltermen, maar is stabieler"
   ]
  },
  {
   "cell_type": "markdown",
   "metadata": {},
   "source": [
    "$$ T_0(x) = 1, \\quad T_1(x) = x,\\quad T_2(x) = 2x^2-1, \\quad T_3(x) = 4x^3-3x,\\quad\\dots $$ "
   ]
  },
  {
   "cell_type": "code",
   "execution_count": null,
   "metadata": {},
   "outputs": [],
   "source": [
    "basis = ChebyshevT(N);\n",
    "gr();@manipulate for k in 1:length(basis)\n",
    "    plot(x->basis[k](x), -1,1;ylims=(-1,1),plot_options...,title=latexstring(\"T_$(k-1)(x)\"))\n",
    "end"
   ]
  },
  {
   "cell_type": "markdown",
   "metadata": {},
   "source": [
    "Stel dat we een exponentiele functie $f(x)=e^x$ willen benaderen in $[-1,1]$"
   ]
  },
  {
   "cell_type": "code",
   "execution_count": null,
   "metadata": {},
   "outputs": [],
   "source": [
    "line_fun = exp\n",
    "plot(line_fun,-1,1,legend=false,linewidth=10)"
   ]
  },
  {
   "cell_type": "markdown",
   "metadata": {},
   "source": [
    "   $$ e^x≈\\sum_{k=0}^N c_kT_k(x) $$"
   ]
  },
  {
   "cell_type": "code",
   "execution_count": null,
   "metadata": {},
   "outputs": [],
   "source": [
    "gr();@manipulate for n in 1:21\n",
    "    fun = approximate(ChebyshevT(n),line_fun)\n",
    "    plot(fun;layout=3,plot_options...,title=\"Benadering\")\n",
    "    plot!(line_fun,-1,1;subplot=1,color=\"black\")\n",
    "    plot!(fun,line_fun;subplot=2,ylims=(1e-16,1),plot_options...,title=\"Fout\")\n",
    "    scatter!(abs.(coefficients(fun));ylims=(1e-18,10),yscale=:log10,subplot=3,title=L\"$c_k$\",plot_options...)\n",
    "end"
   ]
  },
  {
   "cell_type": "markdown",
   "metadata": {},
   "source": [
    "# Fourier basis voor benaderen op een cirkel"
   ]
  },
  {
   "cell_type": "markdown",
   "metadata": {},
   "source": [
    "Een Fourier basis bevat cosinussen en sinussen: \n",
    "$$ 1, \\quad\\cos(\\pi x), \\quad \\sin (\\pi x),\\quad \\cos(2\\pi x),\\quad \\sin (2\\pi x), \\dots$$"
   ]
  },
  {
   "cell_type": "code",
   "execution_count": null,
   "metadata": {},
   "outputs": [],
   "source": [
    "ϕ= basis[1]"
   ]
  },
  {
   "cell_type": "code",
   "execution_count": null,
   "metadata": {},
   "outputs": [],
   "source": [
    "ϕ.index"
   ]
  },
  {
   "cell_type": "code",
   "execution_count": null,
   "metadata": {},
   "outputs": [],
   "source": [
    "basis = Fourier(N+1);\n",
    "gr();@manipulate for i in 1:length(basis) \n",
    "    plot(basis[i];ylims=(-1,1),plot_complex=true,plot_options...)\n",
    "end"
   ]
  },
  {
   "cell_type": "markdown",
   "metadata": {},
   "source": [
    "Deze basis is periodic en is bijgevolg goed om functies op een cirkel te benaderen "
   ]
  },
  {
   "cell_type": "code",
   "execution_count": null,
   "metadata": {},
   "outputs": [],
   "source": [
    "θs = LinRange(0,1,500)\n",
    "zs = cis.(2pi.*θs)\n",
    "xs = real.(zs)\n",
    "ys = imag.(zs)\n",
    "gr();plot3d(xs,ys,zeros(length(θs));plot_options...)"
   ]
  },
  {
   "cell_type": "code",
   "execution_count": null,
   "metadata": {},
   "outputs": [],
   "source": [
    "cirkel_f = θ->exp(cos(6π*θ))-.7\n",
    "zs = cirkel_f.(θs)\n",
    "gr();plot3d(xs,ys,zs;color=cgrad(:redsblues)[zs],plot_options...,\n",
    "        xlabel=\"x\",ylabel=\"y\",zlabel=\"z\")"
   ]
  },
  {
   "cell_type": "code",
   "execution_count": null,
   "metadata": {},
   "outputs": [],
   "source": [
    "gr();@manipulate throttle = 0.1  for n in 1:2:101\n",
    "    fun = approximate(Fourier(n),cirkel_f)\n",
    "    zs = real.(fun.(θs))\n",
    "    plot3d(xs,ys,zs;color=cgrad(:redsblues)[zs],layout=3,plot_options...,title=\"Benadering\")\n",
    "    plot3d!(xs,ys,cirkel_f.(θs);subplot=1,color=\"black\")\n",
    "    plot!(fun,cirkel_f;ylims=(1e-16,1),subplot=2,title=\"Fout\",xlabel=\"θ\",ylabel=\"z\")\n",
    "    scatter!(abs.(coefficients(fun));ylims=(1e-18,10),yscale=:log10,subplot=3,title=L\"$c_k$\",xlabel=\"k\",ylabel=\"\",plot_options...)\n",
    "end"
   ]
  },
  {
   "cell_type": "code",
   "execution_count": null,
   "metadata": {},
   "outputs": [],
   "source": []
  }
 ],
 "metadata": {
  "@webio": {
   "lastCommId": "54212d62e6a54ac9b148cd946d13f038",
   "lastKernelId": "0606e5af-5995-46b0-937e-eb54f9d489ce"
  },
  "kernelspec": {
   "display_name": "Julia 1.5.0",
   "language": "julia",
   "name": "julia-1.5"
  },
  "language_info": {
   "file_extension": ".jl",
   "mimetype": "application/julia",
   "name": "julia",
   "version": "1.5.0"
  }
 },
 "nbformat": 4,
 "nbformat_minor": 4
}
