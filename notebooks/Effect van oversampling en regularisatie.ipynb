{
 "cells": [
  {
   "cell_type": "code",
   "execution_count": null,
   "metadata": {},
   "outputs": [],
   "source": [
    "using FrameFun, BasisFunctions, Plots, FastTransforms, PGFPlotsX"
   ]
  },
  {
   "cell_type": "code",
   "execution_count": null,
   "metadata": {},
   "outputs": [],
   "source": [
    "fun = x->exp(cos(6eltype(x)(pi)*x))\n",
    "Ns = 3:2:61\n",
    "function frame_plot(Ns,errors,norms)\n",
    "   scatter(Ns,errors .+ eps();title=\"Fout\",yscale=:log10,layout=(1,2),\n",
    "        size=(500,200),subplot=1,legend=false,ylims=(1e-16,1e2),background_color=:transparent,foreground_color=:black)\n",
    "    scatter!(Ns,norms .+ eps();subplot=2,yscale=:log10,legend=false,ylims=(1e-1,1e6),title=\"Coefficientengrootte\") \n",
    "end\n",
    "function frame_plotpgf(Ns,errors,norms)\n",
    "    @pgf GroupPlot({group_style = {group_size = \"2 by 1\",},legend=false,width=150,height=100,},\n",
    "        {title=\"Fout\",ymode=\"log\",ymin=1e-16,ymax=1e2,xmin=0,xmax=Ns[end]+1}, \n",
    "        PlotInc({},Table([Ns,errors .+ eps()])),\n",
    "        {title=\"Coefficientengrootte\",ymode=\"log\",ymin=1e-1,ymax=1e6,xmin=0,xmax=Ns[end]+1}, \n",
    "        PlotInc({},Table([Ns,norms .+ eps()]))  \n",
    "    )\n",
    "end"
   ]
  },
  {
   "cell_type": "code",
   "execution_count": null,
   "metadata": {},
   "outputs": [],
   "source": [
    "p = platform(extensionframe(Fourier{BigFloat}(1),big(0.0)..big(0.5)))\n",
    "norms1 = zeros(BigFloat,length(Ns))\n",
    "errors1 = zeros(BigFloat,length(Ns))\n",
    "for (i,N) in enumerate(Ns)\n",
    "    opts = (;L=2N,verbose=false,solverstyle=DirectStyle(),directsolver=:qr,samplingstyle=GramStyle())\n",
    "    F = Fun(fun,p,N;opts...)\n",
    "    g = sampling_grid(p,N;L=3N)\n",
    "    norms1[i],errors1[i] = norm(coefficients(F)),norm(F(g)-fun.(g),Inf)\n",
    "end\n",
    "frame_plot(Ns,errors1,norms1)"
   ]
  },
  {
   "cell_type": "code",
   "execution_count": null,
   "metadata": {},
   "outputs": [],
   "source": [
    "p = platform(extensionframe(Fourier(1),(0.0)..(0.5)))\n",
    "norms2 = zeros(length(Ns))\n",
    "errors2 = zeros(length(Ns))\n",
    "for (i,N) in enumerate(Ns)\n",
    "    opts = (;L=2N,verbose=false,solverstyle=DirectStyle(),directsolver=:qr,samplingstyle=GramStyle())\n",
    "    F = Fun(fun,p,N;opts...)\n",
    "    g = sampling_grid(p,N;L=3N)\n",
    "    norms2[i],errors2[i] = norm(coefficients(F)),norm(F(g)-fun.(g),Inf)\n",
    "end\n",
    "frame_plot(Ns,errors2,norms2)"
   ]
  },
  {
   "cell_type": "code",
   "execution_count": null,
   "metadata": {},
   "outputs": [],
   "source": [
    "norms3 = zeros(length(Ns))\n",
    "errors3 = zeros(length(Ns))\n",
    "for (i,N) in enumerate(Ns)\n",
    "    opts = (;solverstyle=AZStyle())\n",
    "    F = Fun(fun,p,N;opts...)\n",
    "    g = sampling_grid(p,N;L=3N)\n",
    "    norms3[i],errors3[i] = norm(coefficients(F)),norm(F(g)-fun.(g),Inf)\n",
    "end\n",
    "frame_plot(Ns,errors3,norms3)"
   ]
  },
  {
   "cell_type": "code",
   "execution_count": null,
   "metadata": {},
   "outputs": [],
   "source": []
  },
  {
   "cell_type": "code",
   "execution_count": null,
   "metadata": {},
   "outputs": [],
   "source": []
  },
  {
   "cell_type": "code",
   "execution_count": null,
   "metadata": {},
   "outputs": [],
   "source": [
    "frame_plot(Ns,errors1,norms1)\n",
    "savefig(\"oversampling1\")"
   ]
  },
  {
   "cell_type": "code",
   "execution_count": null,
   "metadata": {},
   "outputs": [],
   "source": [
    "frame_plot(Ns,errors2,norms2)\n",
    "savefig(\"oversampling2\")"
   ]
  },
  {
   "cell_type": "code",
   "execution_count": null,
   "metadata": {},
   "outputs": [],
   "source": [
    "frame_plot(Ns,errors3,norms3)\n",
    "savefig(\"oversampling3\")"
   ]
  },
  {
   "cell_type": "code",
   "execution_count": null,
   "metadata": {},
   "outputs": [],
   "source": [
    "pgfsave(\"oversampling1.tex\",frame_plotpgf(Ns,errors1,norms1),include_preamble=false)\n",
    "pgfsave(\"oversampling2.tex\",frame_plotpgf(Ns,errors2,norms2),include_preamble=false)\n",
    "pgfsave(\"oversampling3.tex\",frame_plotpgf(Ns,errors3,norms3),include_preamble=false)"
   ]
  },
  {
   "cell_type": "code",
   "execution_count": null,
   "metadata": {},
   "outputs": [],
   "source": []
  }
 ],
 "metadata": {
  "kernelspec": {
   "display_name": "Julia 1.5.0",
   "language": "julia",
   "name": "julia-1.5"
  },
  "language_info": {
   "file_extension": ".jl",
   "mimetype": "application/julia",
   "name": "julia",
   "version": "1.5.0"
  }
 },
 "nbformat": 4,
 "nbformat_minor": 4
}
