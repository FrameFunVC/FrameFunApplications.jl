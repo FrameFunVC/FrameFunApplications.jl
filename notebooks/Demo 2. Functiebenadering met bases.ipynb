{
 "cells": [
  {
   "cell_type": "markdown",
   "metadata": {},
   "source": [
    "Laad nuttige functionaliteit"
   ]
  },
  {
   "cell_type": "code",
   "execution_count": null,
   "metadata": {},
   "outputs": [],
   "source": [
    "# Creeren van figuren \n",
    "using Plots, LaTeXStrings\n",
    "plot_options = (legend=false,linewidth=5)\n",
    "\n",
    "# Gebruik van widget met slider (als het toeval het toestaat)\n",
    "using Interact \n",
    "\n",
    "# Verzameling van bases \n",
    "using BasisFunctions "
   ]
  },
  {
   "cell_type": "markdown",
   "metadata": {},
   "source": [
    "Basisfunctions.jl is een pakket van onze onderzoeksgroep en bevat functionaliteit voor het benaderen van een functie met een verzameling van gegeven functies"
   ]
  },
  {
   "cell_type": "markdown",
   "metadata": {},
   "source": [
    "# I. Functiebenadering op een interval met veeltermen"
   ]
  },
  {
   "cell_type": "markdown",
   "metadata": {},
   "source": [
    "## I.1. Monomialen"
   ]
  },
  {
   "cell_type": "markdown",
   "metadata": {},
   "source": [
    "We kunnen functies benaderen met bijvoorbeeld een set in de vorm \n",
    "\n",
    "$$ 1,\\quad x,\\quad x^2,\\quad x^3,\\quad \\dots $$\n",
    "\n",
    "We benaderen dus $f(x)$ met \n",
    "$$ c_0 + c_1x+c_2x^2 +\\cdots + c_Nx^N.$$\n",
    "Of in het kort \n",
    "$$ f(x)\\approx \\sum_{k=0}^N c_kx^k.$$\n",
    "\n",
    "De onbekenden zijn \n",
    "$$ c_0,\\quad c_1,\\quad c_2,\\quad \\cdots,\\quad c_N$$\n",
    "\n",
    "en kunnen gevonden worden door het oplossen van een $N\\times N$matrix \n",
    "\n",
    "\n",
    "$$\\begin{bmatrix}  \n",
    "1 & x_1 & x_1^2 & \\cdots & x_1^N \\\\1 & x_2 & x_2^2 & \\cdots & x_2^N \\\\\\vdots & \\vdots & \\vdots & \\ddots & \\vdots \\\\1 & x_N & x_N^2 & \\cdots & x_N^N \\\\\\end{bmatrix} \\begin{bmatrix}  c_0 \\\\c_1 \\\\\\vdots \\\\c_N \\\\\\end{bmatrix} = \\begin{bmatrix} f(x_1) \\\\ f(x_2) \\\\ \\vdots \\\\f(x_N)\\end{bmatrix}.$$"
   ]
  },
  {
   "cell_type": "code",
   "execution_count": null,
   "metadata": {},
   "outputs": [],
   "source": [
    "N = 10\n",
    "basis = Monomials(N+1)\n",
    "gr();@manipulate for i in 1:length(basis) \n",
    "    plot(x->basis[i](x), -1,1;size=(300,300),ylims=(-1,1),plot_options...,title=latexstring(\"x^$(i-1)\"))\n",
    "end"
   ]
  },
  {
   "cell_type": "markdown",
   "metadata": {},
   "source": [
    "Dit is echter een <i><b>onstabiele</b></u> basis (set van functies) omdat de verschillende functies goed op elkaar beginnen lijken."
   ]
  },
  {
   "cell_type": "markdown",
   "metadata": {},
   "source": [
    "Vergelijk bijvoorbeel $x^8$ en $x^{10}$:"
   ]
  },
  {
   "cell_type": "code",
   "execution_count": null,
   "metadata": {},
   "outputs": [],
   "source": [
    "basis = Monomials(N+1)\n",
    "gr();plot(x->basis[10](x), -1,1;ylims=(0,1),plot_options...)\n",
    "plot!(x->basis[8](x), -1,1;size=(300,300),ylims=(0,1),plot_options...)"
   ]
  },
  {
   "cell_type": "markdown",
   "metadata": {},
   "source": [
    "## I.2. Chebyshev"
   ]
  },
  {
   "cell_type": "markdown",
   "metadata": {},
   "source": [
    "Een Chebyshev basis bevat ook veeltermen, maar is <b>stabieler</b>:"
   ]
  },
  {
   "cell_type": "markdown",
   "metadata": {},
   "source": [
    "$$ T_0(x) = 1, \\quad T_1(x) = x,\\quad T_2(x) = 2x^2-1, \\quad T_3(x) = 4x^3-3x,\\quad\\dots $$ "
   ]
  },
  {
   "cell_type": "code",
   "execution_count": null,
   "metadata": {},
   "outputs": [],
   "source": [
    "basis = ChebyshevT(N);\n",
    "gr();@manipulate for k in 1:length(basis)\n",
    "    plot(x->basis[k](x), -1,1;size=(300,300),ylims=(-1,1),plot_options...,title=latexstring(\"T_$(k-1)(x)\"))\n",
    "end"
   ]
  },
  {
   "cell_type": "markdown",
   "metadata": {},
   "source": [
    "## I.2.a. Functiebenadering op een interval "
   ]
  },
  {
   "cell_type": "markdown",
   "metadata": {},
   "source": [
    "Stel dat we een exponentiele functie $f(x)=e^x$, zie hieronder, willen benaderen in $[-1,1]$"
   ]
  },
  {
   "cell_type": "code",
   "execution_count": null,
   "metadata": {},
   "outputs": [],
   "source": [
    "line_fun = exp\n",
    "plot(line_fun,-1,1,legend=false,size=(300,300),linewidth=10)"
   ]
  },
  {
   "cell_type": "markdown",
   "metadata": {},
   "source": [
    "Dan zoeken we getallen $c_0, c_1,\\dots, c_N$ zodat \n",
    "$$ e^x≈\\sum_{k=0}^N c_kT_k(x) $$."
   ]
  },
  {
   "cell_type": "code",
   "execution_count": null,
   "metadata": {},
   "outputs": [],
   "source": [
    "gr();@manipulate for n in 1:21\n",
    "    fun = approximate(ChebyshevT(n),line_fun)\n",
    "    plot(fun;size=(1000,200),layout=(1,3),plot_options...,title=\"Benadering\")\n",
    "    plot!(line_fun,-1,1;subplot=1,color=\"black\")\n",
    "    plot!(fun,line_fun;subplot=2,ylims=(1e-16,1),plot_options...,title=\"Fout\")\n",
    "    scatter!(abs.(coefficients(fun));ylims=(1e-18,10),yscale=:log10,subplot=3,title=L\"$c_k$\",plot_options...)\n",
    "end"
   ]
  },
  {
   "cell_type": "markdown",
   "metadata": {},
   "source": [
    "-  $n=1$: We gebruiken slechts 1 functie om $e^x$ te benaderen. De fout is overal groot. \n",
    "-  $n=5$: Visueel is de benadering in orde. De fout is $\\approx 10^{-2}$. \n",
    "-  $n=14$: De fout is bereikt <b>machineprecisie</b> ($\\approx 10^{-16}$). Patroon van dalende coefficienten zichtbaar. \n",
    "-  $n=17$: De coefficienten bereiken minimum en blijven klein."
   ]
  },
  {
   "cell_type": "markdown",
   "metadata": {},
   "source": [
    "# II. Functiebenadering op een cirkel met Fourier basis"
   ]
  },
  {
   "cell_type": "markdown",
   "metadata": {},
   "source": [
    "## II.1. Fourier basis"
   ]
  },
  {
   "cell_type": "markdown",
   "metadata": {},
   "source": [
    "Een Fourier basis bevat cosinussen en sinussen: \n",
    "$$ 1, \\quad\\cos(\\pi x), \\quad \\sin (\\pi x),\\quad \\cos(2\\pi x),\\quad \\sin (2\\pi x), \\dots$$"
   ]
  },
  {
   "cell_type": "code",
   "execution_count": null,
   "metadata": {},
   "outputs": [],
   "source": [
    "basis = Fourier(N+1);\n",
    "gr();@manipulate for i in 1:length(basis) \n",
    "    plot(basis[i];size=(600,200),ylims=(-1,1),plot_complex=true,plot_options...)\n",
    "end"
   ]
  },
  {
   "cell_type": "markdown",
   "metadata": {},
   "source": [
    "Deze basis is <b>periodisch</b>: je kan de functies achter elkaar plakken en het resultaat blijft zacht verlopen. \n",
    "Daarom is deze basis geschikt om functies op een <b>cirkel</b> te benaderen."
   ]
  },
  {
   "cell_type": "code",
   "execution_count": null,
   "metadata": {},
   "outputs": [],
   "source": [
    "T = ChebyshevT(N+1);F = Fourier(N+1);\n",
    "\n",
    "gr();@manipulate for i in 1:N>>1 \n",
    "    plot(F[i];size=(1000,300),layout=(1,4),ylims=(-1.5,1.5),plot_options...)\n",
    "    scatter!([1.],[real(F[i](1.))];plot_options...,c=:lightgreen,subplot=1,y_ticks=false,markersize=5,title=\"\")\n",
    "    plot!(F[i];subplot=2,ylims=(-1.5,1.5),plot_complex=false,yaxis=false,plot_options...)\n",
    "    scatter!([0.],real([F[i](1.)]),c=:lightgreen,subplot=2,markersize=5)\n",
    "    plot!(T[i];subplot=3,ylims=(-1.5,1.5),plot_options...)\n",
    "    scatter!([1.],[T[i](1.)],c=:red,subplot=3,markersize=5)\n",
    "    plot!(T[i];subplot=4,ylims=(-1.5,1.5),yaxis=false,plot_options...)\n",
    "    scatter!([-1.],[T[i](-1.)],c=:red,subplot=4,markersize=5)\n",
    "end"
   ]
  },
  {
   "cell_type": "markdown",
   "metadata": {},
   "source": [
    "### II.1.a. Functiebenadering op een cirkel"
   ]
  },
  {
   "cell_type": "code",
   "execution_count": null,
   "metadata": {},
   "outputs": [],
   "source": [
    "θs = LinRange(0,1,500)\n",
    "zs = cis.(2pi.*θs)\n",
    "xs = real.(zs)\n",
    "ys = imag.(zs)\n",
    "gr();plot3d(xs,ys,zeros(length(θs));size=(300,300),plot_options...)"
   ]
  },
  {
   "cell_type": "code",
   "execution_count": null,
   "metadata": {},
   "outputs": [],
   "source": [
    "cirkel_f = θ->exp(cos(6π*θ))-.7\n",
    "zs = cirkel_f.(θs)\n",
    "gr();plot3d(xs,ys,zs;size=(300,300),color=cgrad(:redsblues)[zs],plot_options...,\n",
    "        xlabel=\"x\",ylabel=\"y\",zlabel=\"z\")"
   ]
  },
  {
   "cell_type": "code",
   "execution_count": null,
   "metadata": {},
   "outputs": [],
   "source": [
    "gr();@manipulate throttle = 0.1  for n in 1:2:101\n",
    "    fun = approximate(Fourier(n),cirkel_f)\n",
    "    zs = real.(fun.(θs))\n",
    "    plot3d(xs,ys,zs;color=cgrad(:redsblues)[zs],layout=(1,3),size=(1000,300),plot_options...,title=\"Benadering\")\n",
    "    plot3d!(xs,ys,cirkel_f.(θs);subplot=1,color=\"black\")\n",
    "    plot!(fun,cirkel_f;ylims=(1e-16,1),subplot=2,title=\"Fout\",xlabel=\"θ\",ylabel=\"z\")\n",
    "    scatter!(abs.(coefficients(fun));ylims=(1e-18,10),yscale=:log10,subplot=3,title=L\"$c_k$\",xlabel=\"k\",ylabel=\"\",plot_options...)\n",
    "end"
   ]
  },
  {
   "cell_type": "markdown",
   "metadata": {},
   "source": [
    "# III. Functiebenadering op een vierkant"
   ]
  },
  {
   "cell_type": "markdown",
   "metadata": {},
   "source": [
    "## III.1. 2-dimensionele Chebyshevbasis"
   ]
  },
  {
   "cell_type": "code",
   "execution_count": null,
   "metadata": {},
   "outputs": [],
   "source": [
    "basis = ChebyshevT(3)^2;\n",
    "gr();@manipulate throttle = 0.1  for k in 1:length(basis)\n",
    "    plot(basis[k];c=:redsblues,zlims=(-1.5,1.5),size=(300,300),cbar=false)\n",
    "end"
   ]
  },
  {
   "cell_type": "markdown",
   "metadata": {},
   "source": [
    "## III.1. 2-dimensionele splinebasis"
   ]
  },
  {
   "cell_type": "code",
   "execution_count": null,
   "metadata": {},
   "outputs": [],
   "source": [
    "using CompactTranslatesDict: BSplineTranslatesBasis\n",
    "basis = BSplineTranslatesBasis(4,2)^2;\n",
    "gr();@manipulate throttle = 0.1  for k in 1:length(basis)\n",
    "    plot(basis[k];c=:redsblues,layout=(1,2),cbar=false)\n",
    "    heatmap!(basis[k];subplot=2,c=:redsblues,cbar=false,ratio=1,size=(600,300))\n",
    "end"
   ]
  },
  {
   "cell_type": "markdown",
   "metadata": {},
   "source": [
    "# IV. Functiebenadering op een complexe geometrie?"
   ]
  },
  {
   "cell_type": "code",
   "execution_count": null,
   "metadata": {},
   "outputs": [],
   "source": [
    "using FrameFun: mandelbrot\n",
    "using FrameFunApplications.SplineCircleExample: domein\n",
    "plot(domein();size=(600,300),layout=(1,2),xlims=(-0,1),ylims=(0,1))\n",
    "plot!(mandelbrot(),subplot=2,xlims=(-1,1),ylims=(-1,1))"
   ]
  },
  {
   "cell_type": "code",
   "execution_count": null,
   "metadata": {},
   "outputs": [],
   "source": []
  }
 ],
 "metadata": {
  "@webio": {
   "lastCommId": "68b7abd7ed844e1bb580aadcb8d219ec",
   "lastKernelId": "e32c96ee-6452-4216-b081-c8d0b7aa6b5d"
  },
  "kernelspec": {
   "display_name": "Julia 1.5.0",
   "language": "julia",
   "name": "julia-1.5"
  },
  "language_info": {
   "file_extension": ".jl",
   "mimetype": "application/julia",
   "name": "julia",
   "version": "1.5.0"
  }
 },
 "nbformat": 4,
 "nbformat_minor": 4
}
