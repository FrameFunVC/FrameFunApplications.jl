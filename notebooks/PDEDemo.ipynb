{
 "cells": [
  {
   "cell_type": "markdown",
   "metadata": {},
   "source": [
    "Laad nuttige functionaliteit"
   ]
  },
  {
   "cell_type": "code",
   "execution_count": null,
   "metadata": {},
   "outputs": [],
   "source": [
    "# Creeren van figuren \n",
    "using Plots, LaTeXStrings\n",
    "\n",
    "\n",
    "# Kleine verzameling van PDE voorbeelden gebaseerd op BasisFunctions.jl en FrameFun.jl\n",
    "using FrameFunApplications "
   ]
  },
  {
   "cell_type": "markdown",
   "metadata": {},
   "source": [
    "# PDE voor stroming rond een schijf"
   ]
  },
  {
   "cell_type": "markdown",
   "metadata": {},
   "source": [
    "We berekenen numeriek de stroming rond een schijf"
   ]
  },
  {
   "cell_type": "code",
   "execution_count": null,
   "metadata": {},
   "outputs": [],
   "source": [
    "opties = (;R =.1,N=200)"
   ]
  },
  {
   "cell_type": "code",
   "execution_count": null,
   "metadata": {},
   "outputs": [],
   "source": [
    "sol = run_circle_example(;opties...);"
   ]
  },
  {
   "cell_type": "code",
   "execution_count": null,
   "metadata": {},
   "outputs": [],
   "source": [
    "gr();quiver_plot(15,sol.u,sol.domain;γ=9,linewidth=2,cbar=false,ratio=1)"
   ]
  },
  {
   "cell_type": "markdown",
   "metadata": {},
   "source": [
    "## Stap voor stap"
   ]
  },
  {
   "cell_type": "code",
   "execution_count": null,
   "metadata": {},
   "outputs": [],
   "source": [
    "# R is de straal van de schijf, N^2 het aantal functies waarmee wordt benaderd\n",
    "opties = (;R =.1,N=200)\n",
    "# We benaderen met spline functies (hier later meer over)\n",
    "basis = spline_basis(;opties...)\n",
    "# Maak het gebruik van de symbolen voor partieel afgeleiden mogelijk \n",
    "using SymbolicDifferentialOperators: δx, δy, Δ, I\n",
    "# Uniforme layout van figuren\n",
    "plot_opties = (;xlabel=\"x\",\n",
    "                ylabel=\"y\",\n",
    "                xlims=(0,1),\n",
    "                ylims=(0,1),\n",
    "                markersize = 1,\n",
    "                markerstrokewidth = 0.,\n",
    "                ratio=1,\n",
    "            );"
   ]
  },
  {
   "cell_type": "markdown",
   "metadata": {},
   "source": [
    "### Stap 1. Leg PDE op in het inwendige "
   ]
  },
  {
   "cell_type": "markdown",
   "metadata": {},
   "source": [
    "In het inwendige ($\\Omega$) (zie het rooster hieronder) leggen we de partiele differentiaal vergelijking op \n",
    "\n",
    "$$ \\Delta u(x,y) = 0\\quad $$\n",
    "waarbij $\\Delta = \\frac{\\partial^2}{\\partial^2x} + \\frac{\\partial^2}{\\partial^2y}$."
   ]
  },
  {
   "cell_type": "code",
   "execution_count": null,
   "metadata": {},
   "outputs": [],
   "source": [
    "stap_1 = PDERule(\n",
    "        Δ,\n",
    "        basis,\n",
    "        collocatie_rooster(;opties...),\n",
    "        (x,y)->0.\n",
    "    );"
   ]
  },
  {
   "cell_type": "code",
   "execution_count": null,
   "metadata": {},
   "outputs": [],
   "source": [
    "plot(collocatie_rooster(;opties...,N=50);plot_opties...,)"
   ]
  },
  {
   "cell_type": "markdown",
   "metadata": {},
   "source": [
    "### Stap 2. Water mag niet door verticale wanden of schijf vloeien"
   ]
  },
  {
   "cell_type": "code",
   "execution_count": null,
   "metadata": {},
   "outputs": [],
   "source": [
    "plot(wand_randvoorwaarde_rooster(;opties...);plot_opties...)\n",
    "plot!(schijf_rooster(;opties...);plot_opties...)"
   ]
  },
  {
   "cell_type": "code",
   "execution_count": null,
   "metadata": {},
   "outputs": [],
   "source": [
    "stap_2a = PDERule(\n",
    "            # Snelheid (afgeleide) in de horizontale richting ... \n",
    "            δx^1*δy^0,\n",
    "            basis,\n",
    "            wand_randvoorwaarde_rooster(;opties...),\n",
    "            # ... is nul.\n",
    "            (x,y)->0.\n",
    "        );\n",
    "stap_2b = PDENormalRule(\n",
    "            # Snelheid (afgeleide) loodrecht op de schijf ... \n",
    "            schijf(;opties...), \n",
    "            basis,\n",
    "            schijf_rooster(;opties...),\n",
    "            # ... is nul.\n",
    "            (x,y)->0\n",
    "        );"
   ]
  },
  {
   "cell_type": "markdown",
   "metadata": {},
   "source": [
    "### Stap 3. Water vloeit verticaal aan horizontale uiteindes"
   ]
  },
  {
   "cell_type": "code",
   "execution_count": null,
   "metadata": {},
   "outputs": [],
   "source": [
    "plot(stroming_randvoorwaarde_rooster(;opties...);plot_opties...)"
   ]
  },
  {
   "cell_type": "code",
   "execution_count": null,
   "metadata": {},
   "outputs": [],
   "source": [
    "stap_3 = PDERule(\n",
    "            # Snelheid (afgeleide) in de verticale richting ... \n",
    "            δy^1*δx^0,\n",
    "            basis,\n",
    "            stroming_randvoorwaarde_rooster(;opties...),\n",
    "            # heeft snelheid v\n",
    "            (x,y)->arg(:v,opties)\n",
    "        );"
   ]
  },
  {
   "cell_type": "code",
   "execution_count": null,
   "metadata": {},
   "outputs": [],
   "source": []
  },
  {
   "cell_type": "markdown",
   "metadata": {},
   "source": [
    "### Alles samenvoegen en oplossen"
   ]
  },
  {
   "cell_type": "code",
   "execution_count": null,
   "metadata": {},
   "outputs": [],
   "source": [
    "using FrameFunTranslates: sparseQR_solver\n",
    "\n",
    "pde = PDE(stap_1,stap_2a,stap_2b,stap_3)\n",
    "u = pdesolve(pde;directsolver=sparseQR_solver)"
   ]
  },
  {
   "cell_type": "code",
   "execution_count": null,
   "metadata": {},
   "outputs": [],
   "source": [
    "gr();quiver_plot(15,u,domein(;opties...);γ=9,linewidth=2,cbar=false,ratio=1)"
   ]
  },
  {
   "cell_type": "code",
   "execution_count": null,
   "metadata": {},
   "outputs": [],
   "source": []
  },
  {
   "cell_type": "markdown",
   "metadata": {},
   "source": [
    "# Analytische oplossing (met behulp van complexe functieleer)"
   ]
  },
  {
   "cell_type": "markdown",
   "metadata": {},
   "source": [
    "Een schijf heeft een envoudige vorm daarom bestaat er ook een analytische oplossing voor de PDE. "
   ]
  },
  {
   "cell_type": "code",
   "execution_count": null,
   "metadata": {},
   "outputs": [],
   "source": [
    "R = arg(:r,opties)\n",
    "function analytische_oplossing(z::Complex)\n",
    "    z + R^2/z\n",
    "end"
   ]
  },
  {
   "cell_type": "code",
   "execution_count": null,
   "metadata": {},
   "outputs": [],
   "source": [
    "# Onderstaande code zorgt dat `analytische_oplossing` zich gedraagt als een PDE-oplossing.\n",
    "import BasisFunctions: diff, dimension\n",
    "using GridArrays\n",
    "function analytische_oplossing_dy(z::Complex) \n",
    "    1 - R^2/(z^2)\n",
    "end\n",
    "function analytische_oplossing_dx(z::Complex) \n",
    "    1im - 1im*R^2/(z^2)\n",
    "end\n",
    "for fun in (:analytische_oplossing,:analytische_oplossing_dx,:analytische_oplossing_dy)\n",
    "    @eval begin \n",
    "        $fun((y,x),) = real($fun(complex(x,y)-complex(.5,.5)))\n",
    "        $fun(g::AbstractGrid) = $fun.(g)\n",
    "        dimension(::typeof($fun)) = 2\n",
    "    end\n",
    "end\n",
    "function diff(::typeof(analytische_oplossing),order)\n",
    "    if order==(1,0)\n",
    "        analytische_oplossing_dx\n",
    "    elseif order==(0,1)\n",
    "        analytische_oplossing_dy \n",
    "    end\n",
    "end;"
   ]
  },
  {
   "cell_type": "code",
   "execution_count": null,
   "metadata": {},
   "outputs": [],
   "source": [
    "gr();quiver_plot(15,analytische_oplossing,domein(;opties...);γ=9,linewidth=2,cbar=false,ratio=1)"
   ]
  },
  {
   "cell_type": "code",
   "execution_count": null,
   "metadata": {},
   "outputs": [],
   "source": []
  }
 ],
 "metadata": {
  "@webio": {
   "lastCommId": null,
   "lastKernelId": null
  },
  "kernelspec": {
   "display_name": "Julia 1.5.0",
   "language": "julia",
   "name": "julia-1.5"
  },
  "language_info": {
   "file_extension": ".jl",
   "mimetype": "application/julia",
   "name": "julia",
   "version": "1.5.0"
  }
 },
 "nbformat": 4,
 "nbformat_minor": 4
}
