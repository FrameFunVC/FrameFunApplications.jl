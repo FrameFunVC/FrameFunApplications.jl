{
 "cells": [
  {
   "cell_type": "code",
   "execution_count": null,
   "metadata": {},
   "outputs": [],
   "source": [
    "using Plots, LinearAlgebra, PGFPlotsX\n",
    "pgfplotsx()"
   ]
  },
  {
   "cell_type": "code",
   "execution_count": null,
   "metadata": {},
   "outputs": [],
   "source": [
    "θ1 = pi/6\n",
    "θ2 = -.75pi"
   ]
  },
  {
   "cell_type": "code",
   "execution_count": null,
   "metadata": {},
   "outputs": [],
   "source": [
    "U = [cos(θ1) -sin(θ1); sin(θ1) cos(θ1)]\n",
    "V = [cos(θ2) -sin(θ2); sin(θ2) cos(θ2)]\n",
    "Σ = [2. 0.; 0. .5]\n",
    "A = U*Σ*V'\n",
    "function plot_ellipse(A, ellipse)\n",
    "    ellips1 = A*ellipse\n",
    "    ellips1_x, ellips1_y = ellips1'[:,1], ellips1'[:,2]\n",
    "    plot(ellips1_x,ellips1_y;legend=false,size=(200,160),ratio=1,xlims=(-3,3),ylims=(-2,2),background_color=:transparent,foreground_color=:black)\n",
    "    scatter!(ellips1_x[[1]],ellips1_y[[1]])\n",
    "    scatter!(ellips1_x[[length(ellips1_x)>>1]],ellips1_y[[length(ellips1_x)>>1]])\n",
    "end"
   ]
  },
  {
   "cell_type": "code",
   "execution_count": null,
   "metadata": {},
   "outputs": [],
   "source": [
    "θs = LinRange(0,2pi,100)\n",
    "ellips_x = 1.5cos.(θs)\n",
    "ellips_y = sin.(θs)\n",
    "ellips = hcat([[x,y] for (x,y) in zip(ellips_x,ellips_y)]...)\n",
    "plot_ellipse(I, ellips)\n",
    "savefig(\"step0\")"
   ]
  },
  {
   "cell_type": "code",
   "execution_count": null,
   "metadata": {},
   "outputs": [],
   "source": [
    "plot_ellipse(V', ellips)\n",
    "savefig(\"step1\")"
   ]
  },
  {
   "cell_type": "code",
   "execution_count": null,
   "metadata": {},
   "outputs": [],
   "source": [
    "plot_ellipse(Σ*V', ellips)\n",
    "savefig(\"step2\")"
   ]
  },
  {
   "cell_type": "code",
   "execution_count": null,
   "metadata": {},
   "outputs": [],
   "source": [
    "plot_ellipse(A, ellips)\n",
    "savefig(\"step3\")"
   ]
  },
  {
   "cell_type": "code",
   "execution_count": null,
   "metadata": {},
   "outputs": [],
   "source": [
    "u,s,v = svd(A)"
   ]
  },
  {
   "cell_type": "code",
   "execution_count": null,
   "metadata": {},
   "outputs": [],
   "source": [
    "using BasisFunctions, FrameFun, LinearAlgebra, Plots, CompactTranslatesDict"
   ]
  },
  {
   "cell_type": "code",
   "execution_count": null,
   "metadata": {},
   "outputs": [],
   "source": [
    "function svdplot(args...;title=\"aha\",low=1e-16)\n",
    "    scatter(svdvals(AZ_A(args...;normalizedsampling=true)),ylim=(low,10),\n",
    "            yscale=:log10,legend=false,size=(200,160),\n",
    "        background_color=:transparent,foreground_color=:black,\n",
    "        title=title)\n",
    "end\n",
    "function svdplotpgf(args...;title=\"aha\",low=1e-16)\n",
    "    vec = svdvals(AZ_A(args...;normalizedsampling=true))\n",
    "    @pgf TikzPicture({},\n",
    "        Axis({width=150,height=100,title=title,ymode=\"log\",legend=false,ymin=low,ymax=10,xmin=0,xmax=length(vec)+1},\n",
    "            PlotInc({only_marks},Table([1:length(vec),vec])))\n",
    "        )\n",
    "end\n"
   ]
  },
  {
   "cell_type": "code",
   "execution_count": null,
   "metadata": {},
   "outputs": [],
   "source": [
    "svdplot(Fourier(100);low=1e-2,title=\"Fourier basis\")\n",
    "savefig(\"svdFourier.tex\")"
   ]
  },
  {
   "cell_type": "code",
   "execution_count": null,
   "metadata": {},
   "outputs": [],
   "source": [
    "svdplot(ChebyshevT(100);low=1e-2,title=\"Chebyshev basis\")\n",
    "savefig(\"svdcheb.tex\")"
   ]
  },
  {
   "cell_type": "code",
   "execution_count": null,
   "metadata": {},
   "outputs": [],
   "source": [
    "svdplot(BSplineTranslatesBasis(100,3);low=1e-2,title=\"Spline basis\")\n",
    "savefig(\"svdspline.tex\")"
   ]
  },
  {
   "cell_type": "code",
   "execution_count": null,
   "metadata": {},
   "outputs": [],
   "source": [
    "svdplot(platform(extensionframe(Fourier(100),0.0..0.5)),100,title=\"Fourier frame\")\n",
    "savefig(\"svdFourier1.tex\")"
   ]
  },
  {
   "cell_type": "code",
   "execution_count": null,
   "metadata": {},
   "outputs": [],
   "source": [
    "svdplot(platform(extensionframe(ChebyshevT(100),0.0..0.5)),100,title=\"Chebyshev frame\")\n",
    "savefig(\"svdcheb1.tex\")"
   ]
  },
  {
   "cell_type": "code",
   "execution_count": null,
   "metadata": {},
   "outputs": [],
   "source": [
    "svdplot(platform(extensionframe(BSplineTranslatesBasis(100,3),0.0..0.5)),100,title=\"Spline frame\")\n",
    "savefig(\"svdspline1.tex\")"
   ]
  },
  {
   "cell_type": "code",
   "execution_count": null,
   "metadata": {},
   "outputs": [],
   "source": []
  },
  {
   "cell_type": "code",
   "execution_count": null,
   "metadata": {},
   "outputs": [],
   "source": [
    "N = 51\n",
    "pgfsave(\"svdFourier.tex\",svdplotpgf(Fourier(N);low=1e-2,title=\"Fourier basis\"),include_preamble=false)\n",
    "pgfsave(\"svdcheb.tex\",svdplotpgf(ChebyshevT(N);low=1e-2,title=\"Chebyshev basis\"),include_preamble=false)\n",
    "pgfsave(\"svdspline.tex\",svdplotpgf(BSplineTranslatesBasis(N,3);low=1e-2,title=\"Spline basis\"),include_preamble=false)\n",
    "pgfsave(\"svdFourier1.tex\",svdplotpgf(platform(extensionframe(Fourier(N),0.0..0.5)),N,title=\"Fourier frame\"),include_preamble=false)\n",
    "pgfsave(\"svdcheb1.tex\",svdplotpgf(platform(extensionframe(ChebyshevT(N),0.0..0.5)),N,title=\"Chebyshev frame\"),include_preamble=false)\n",
    "pgfsave(\"svdspline1.tex\",svdplotpgf(platform(extensionframe(BSplineTranslatesBasis(N,3),0.0..0.5)),N,title=\"Spline frame\"),include_preamble=false)"
   ]
  },
  {
   "cell_type": "code",
   "execution_count": null,
   "metadata": {},
   "outputs": [],
   "source": []
  }
 ],
 "metadata": {
  "@webio": {
   "lastCommId": null,
   "lastKernelId": null
  },
  "kernelspec": {
   "display_name": "Julia 1.5.0",
   "language": "julia",
   "name": "julia-1.5"
  },
  "language_info": {
   "file_extension": ".jl",
   "mimetype": "application/julia",
   "name": "julia",
   "version": "1.5.0"
  }
 },
 "nbformat": 4,
 "nbformat_minor": 4
}
