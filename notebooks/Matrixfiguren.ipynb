{
 "cells": [
  {
   "cell_type": "code",
   "execution_count": null,
   "metadata": {},
   "outputs": [],
   "source": [
    "using Plots, LinearAlgebra"
   ]
  },
  {
   "cell_type": "code",
   "execution_count": null,
   "metadata": {},
   "outputs": [],
   "source": [
    "θ1 = pi/6\n",
    "θ2 = -.75pi"
   ]
  },
  {
   "cell_type": "code",
   "execution_count": null,
   "metadata": {},
   "outputs": [],
   "source": [
    "U = [cos(θ1) -sin(θ1); sin(θ1) cos(θ1)]\n",
    "V = [cos(θ2) -sin(θ2); sin(θ2) cos(θ2)]\n",
    "Σ = [2. 0.; 0. .5]\n",
    "A = U*Σ*V'\n",
    "function plot_ellipse(A, ellipse)\n",
    "    ellips1 = A*ellipse\n",
    "    ellips1_x, ellips1_y = ellips1'[:,1], ellips1'[:,2]\n",
    "    plot(ellips1_x,ellips1_y;legend=false,size=(200,160),ratio=1,xlims=(-3,3),ylims=(-2,2),background_color=:transparent,foreground_color=:black)\n",
    "    scatter!(ellips1_x[[1]],ellips1_y[[1]])\n",
    "    scatter!(ellips1_x[[length(ellips1_x)>>1]],ellips1_y[[length(ellips1_x)>>1]])\n",
    "end"
   ]
  },
  {
   "cell_type": "code",
   "execution_count": null,
   "metadata": {},
   "outputs": [],
   "source": [
    "θs = LinRange(0,2pi,100)\n",
    "ellips_x = 1.5cos.(θs)\n",
    "ellips_y = sin.(θs)\n",
    "ellips = hcat([[x,y] for (x,y) in zip(ellips_x,ellips_y)]...)\n",
    "plot_ellipse(I, ellips)\n",
    "savefig(\"step0\")"
   ]
  },
  {
   "cell_type": "code",
   "execution_count": null,
   "metadata": {},
   "outputs": [],
   "source": [
    "plot_ellipse(V', ellips)\n",
    "savefig(\"step1\")"
   ]
  },
  {
   "cell_type": "code",
   "execution_count": null,
   "metadata": {},
   "outputs": [],
   "source": [
    "plot_ellipse(Σ*V', ellips)\n",
    "savefig(\"step2\")"
   ]
  },
  {
   "cell_type": "code",
   "execution_count": null,
   "metadata": {},
   "outputs": [],
   "source": [
    "plot_ellipse(A, ellips)\n",
    "savefig(\"step3\")"
   ]
  },
  {
   "cell_type": "code",
   "execution_count": null,
   "metadata": {},
   "outputs": [],
   "source": [
    "u,s,v = svd(A)"
   ]
  },
  {
   "cell_type": "code",
   "execution_count": null,
   "metadata": {},
   "outputs": [],
   "source": [
    "using BasisFunctions, FrameFun, LinearAlgebra, Plots, CompactTranslatesDict"
   ]
  },
  {
   "cell_type": "code",
   "execution_count": null,
   "metadata": {},
   "outputs": [],
   "source": [
    "function svdplot(args...;title=\"aha\",low=1e-16)\n",
    "    scatter(svdvals(AZ_A(args...;normalizedsampling=true)),ylim=(low,10),\n",
    "            yscale=:log10,legend=false,size=(200,160),background_color=:transparent,foreground_color=:black,title=title)\n",
    "end"
   ]
  },
  {
   "cell_type": "code",
   "execution_count": null,
   "metadata": {},
   "outputs": [],
   "source": [
    "svdplot(Fourier(100);low=1e-2,title=\"Fourier basis\")\n",
    "savefig(\"svdFourier\")"
   ]
  },
  {
   "cell_type": "code",
   "execution_count": null,
   "metadata": {},
   "outputs": [],
   "source": [
    "svdplot(ChebyshevT(100);low=1e-2,title=\"Chebyshev basis\")\n",
    "savefig(\"svdcheb\")"
   ]
  },
  {
   "cell_type": "code",
   "execution_count": null,
   "metadata": {},
   "outputs": [],
   "source": [
    "svdplot(BSplineTranslatesBasis(100,3);low=1e-2,title=\"Spline basis\")\n",
    "savefig(\"svdspline\")"
   ]
  },
  {
   "cell_type": "code",
   "execution_count": null,
   "metadata": {},
   "outputs": [],
   "source": [
    "svdplot(platform(extensionframe(Fourier(100),0.0..0.5)),100,title=\"Fourier frame\")\n",
    "savefig(\"svdFourier1\")"
   ]
  },
  {
   "cell_type": "code",
   "execution_count": null,
   "metadata": {},
   "outputs": [],
   "source": [
    "svdplot(platform(extensionframe(ChebyshevT(100),0.0..0.5)),100,title=\"Chebyshev frame\")\n",
    "savefig(\"svdcheb1\")"
   ]
  },
  {
   "cell_type": "code",
   "execution_count": null,
   "metadata": {},
   "outputs": [],
   "source": [
    "svdplot(platform(extensionframe(BSplineTranslatesBasis(100,3),0.0..0.5)),100,title=\"Spline frame\")\n",
    "savefig(\"svdspline1\")"
   ]
  },
  {
   "cell_type": "code",
   "execution_count": null,
   "metadata": {},
   "outputs": [],
   "source": []
  }
 ],
 "metadata": {
  "@webio": {
   "lastCommId": null,
   "lastKernelId": null
  },
  "kernelspec": {
   "display_name": "Julia 1.5.0",
   "language": "julia",
   "name": "julia-1.5"
  },
  "language_info": {
   "file_extension": ".jl",
   "mimetype": "application/julia",
   "name": "julia",
   "version": "1.5.0"
  }
 },
 "nbformat": 4,
 "nbformat_minor": 4
}
