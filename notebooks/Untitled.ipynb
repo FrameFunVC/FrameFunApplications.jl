{
 "cells": [
  {
   "cell_type": "code",
   "execution_count": 6,
   "metadata": {},
   "outputs": [
    {
     "name": "stdout",
     "output_type": "stream",
     "text": [
      "\u001b[32m\u001b[1mActivating\u001b[22m\u001b[39m environment at `~/julia/tmp/Project.toml`\n"
     ]
    }
   ],
   "source": [
    "# using Pkg;Pkg.activate(pwd())\n",
    "using Pkg;Pkg.activate(localprojectdir())"
   ]
  },
  {
   "cell_type": "code",
   "execution_count": 10,
   "metadata": {},
   "outputs": [],
   "source": [
    "using BasisFunctions, CompactTranslatesDict, FrameFun, FrameFunTranslates, DomainSets"
   ]
  },
  {
   "cell_type": "code",
   "execution_count": 13,
   "metadata": {},
   "outputs": [
    {
     "data": {
      "text/plain": [
       "ExtensionFramePlatform(BSplinePlatform{Float64,3}(), 0.0..0.5)"
      ]
     },
     "execution_count": 13,
     "metadata": {},
     "output_type": "execute_result"
    }
   ],
   "source": [
    "P = ExtensionFramePlatform(BSplinePlatform(3),0.0..0.5)"
   ]
  },
  {
   "cell_type": "code",
   "execution_count": 15,
   "metadata": {},
   "outputs": [],
   "source": [
    "N = 100\n",
    "dict = dictionary(P,N);\n",
    "g = sampling_grid(P,N);"
   ]
  },
  {
   "cell_type": "code",
   "execution_count": 20,
   "metadata": {},
   "outputs": [
    {
     "ename": "StackOverflowError",
     "evalue": "StackOverflowError:",
     "output_type": "error",
     "traceback": [
      "StackOverflowError:",
      "",
      "Stacktrace:",
      " [1] PeriodicEquispacedGrid{Float64}(::Int64, ::Float64, ::Float64) at /Users/vincentcp/.julia/packages/GridArrays/OEfP2/src/intervalgrids.jl:81",
      " [2] PeriodicEquispacedGrid at /Users/vincentcp/.julia/packages/GridArrays/OEfP2/src/intervalgrids.jl:183 [inlined]",
      " [3] translationgrid at /Users/vincentcp/.julia/packages/CompactTranslatesDict/UIsMF/src/TranslatesDictionaries.jl/DiffPeriodicBSplineBases.jl:29 [inlined]",
      " [4] ordering at /Users/vincentcp/.julia/packages/CompactTranslatesDict/UIsMF/src/TranslatesDictionaries.jl/TranslatesDictionaries.jl:35 [inlined]",
      " [5] _native_index at /Users/vincentcp/.julia/packages/BasisFunctions/BxXUY/src/bases/dictionary/dictionary.jl:179 [inlined]",
      " [6] native_index at /Users/vincentcp/.julia/packages/BasisFunctions/BxXUY/src/bases/dictionary/dictionary.jl:175 [inlined]",
      " [7] unsafe_eval_element_derivative(::BSplineTranslatesBasis{Float64,3,false}, ::Int64, ::Int64, ::Float64) at /Users/vincentcp/.julia/packages/BasisFunctions/BxXUY/src/bases/dictionary/dict_evaluation.jl:198 (repeats 43300 times)",
      " [8] unsafe_eval_element_derivative(::ExtensionFrame{Float64,Float64,BSplineTranslatesBasis{Float64,3,false},Interval{:closed,:closed,Float64}}, ::Int64, ::Int64, ::Float64) at /Users/vincentcp/.julia/packages/BasisFunctions/BxXUY/src/bases/modifiers/derived_dict.jl:118",
      " [9] unsafe_eval_element_derivative1 at /Users/vincentcp/.julia/packages/BasisFunctions/BxXUY/src/bases/dictionary/dict_evaluation.jl:194 [inlined]",
      " [10] eval_element_derivative(::ExtensionFrame{Float64,Float64,BSplineTranslatesBasis{Float64,3,false},Interval{:closed,:closed,Float64}}, ::Int64, ::Int64, ::Float64) at /Users/vincentcp/.julia/packages/BasisFunctions/BxXUY/src/bases/dictionary/dict_evaluation.jl:180",
      " [11] _broadcast_getindex_evalf at ./broadcast.jl:630 [inlined]",
      " [12] _broadcast_getindex at ./broadcast.jl:603 [inlined]",
      " [13] getindex at ./broadcast.jl:563 [inlined]",
      " [14] macro expansion at ./broadcast.jl:909 [inlined]",
      " [15] macro expansion at ./simdloop.jl:77 [inlined]",
      " [16] copyto! at ./broadcast.jl:908 [inlined]",
      " [17] copyto! at ./broadcast.jl:863 [inlined]",
      " [18] copy at ./broadcast.jl:839 [inlined]",
      " [19] materialize(::Base.Broadcast.Broadcasted{Base.Broadcast.DefaultArrayStyle{1},Nothing,typeof(eval_element_derivative),Tuple{Base.RefValue{ExtensionFrame{Float64,Float64,BSplineTranslatesBasis{Float64,3,false},Interval{:closed,:closed,Float64}}},Int64,Int64,IndexSubGrid{PeriodicEquispacedGrid{Float64},UnitRange{Int64},Float64,1}}}) at ./broadcast.jl:819",
      " [20] top-level scope at In[20]:1"
     ]
    }
   ],
   "source": [
    "eval_element_derivative.(Ref(dict),1,0,g)"
   ]
  },
  {
   "cell_type": "code",
   "execution_count": null,
   "metadata": {},
   "outputs": [],
   "source": []
  }
 ],
 "metadata": {
  "kernelspec": {
   "display_name": "Julia 1.3.0",
   "language": "julia",
   "name": "julia-1.3"
  },
  "language_info": {
   "file_extension": ".jl",
   "mimetype": "application/julia",
   "name": "julia",
   "version": "1.3.0"
  }
 },
 "nbformat": 4,
 "nbformat_minor": 2
}
